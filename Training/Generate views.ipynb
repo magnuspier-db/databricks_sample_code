{
 "cells": [
  {
   "cell_type": "code",
   "execution_count": 0,
   "metadata": {
    "application/vnd.databricks.v1+cell": {
     "cellMetadata": {
      "byteLimit": 2048000,
      "rowLimit": 10000
     },
     "inputWidgets": {},
     "nuid": "c0c3bef9-1e7d-444b-9b57-8efbfd85106e",
     "showTitle": false,
     "tableResultSettingsMap": {},
     "title": ""
    }
   },
   "outputs": [],
   "source": [
    "x = spark.sql(\"\"\" \n",
    "  WITH T1 AS (\n",
    "    SELECT \n",
    "    table_catalog\n",
    "  , table_schema\n",
    "  , table_name\n",
    "  , \"magnusp_catalog.training_bronze\" as target_schema\n",
    "  FROM magnusp_catalog.information_schema.tables\n",
    "  WHERE table_name like \"bronze_%\" and table_schema = 'training'\n",
    "  )\n",
    "  SELECT \n",
    "    \"CREATE OR REPLACE VIEW \" || \n",
    "      target_schema || \".\" || \n",
    "      table_name || \" AS \" || \n",
    "      \"SELECT * FROM \" || \n",
    "      table_catalog || \".\" || \n",
    "      table_schema || \".\" || \n",
    "      table_name || \";\" AS sql_script \n",
    "  FROM T1 \n",
    "\"\"\").collect()\n",
    "for i in x:\n",
    "  spark.sql(i.sql_script)"
   ]
  },
  {
   "cell_type": "code",
   "execution_count": 0,
   "metadata": {
    "application/vnd.databricks.v1+cell": {
     "cellMetadata": {
      "byteLimit": 2048000,
      "rowLimit": 10000
     },
     "inputWidgets": {},
     "nuid": "0779129d-68e7-41e1-9b27-f3d826fb87b7",
     "showTitle": false,
     "tableResultSettingsMap": {},
     "title": ""
    }
   },
   "outputs": [],
   "source": [
    "x = spark.sql(\"\"\" \n",
    "  WITH T1 AS (\n",
    "    SELECT \n",
    "    table_catalog\n",
    "  , table_schema\n",
    "  , table_name\n",
    "  , \"magnusp_catalog.training_silver\" as target_schema\n",
    "  FROM magnusp_catalog.information_schema.tables\n",
    "  WHERE table_name like \"silver_%\" and table_schema = 'training'\n",
    "  )\n",
    "  SELECT \n",
    "    \"CREATE OR REPLACE VIEW \" || \n",
    "      target_schema || \".\" || \n",
    "      table_name || \" AS \" || \n",
    "      \"SELECT * FROM \" || \n",
    "      table_catalog || \".\" || \n",
    "      table_schema || \".\" || \n",
    "      table_name || \";\" AS sql_script \n",
    "  FROM T1 \n",
    "\"\"\").collect()\n",
    "for i in x:\n",
    "  spark.sql(i.sql_script)"
   ]
  },
  {
   "cell_type": "code",
   "execution_count": 0,
   "metadata": {
    "application/vnd.databricks.v1+cell": {
     "cellMetadata": {
      "byteLimit": 2048000,
      "rowLimit": 10000
     },
     "inputWidgets": {},
     "nuid": "41940b70-cd5c-40d8-b457-4bc29e9fde9a",
     "showTitle": false,
     "tableResultSettingsMap": {},
     "title": ""
    }
   },
   "outputs": [],
   "source": [
    "x = spark.sql(\"\"\" \n",
    "  WITH T1 AS (\n",
    "    SELECT \n",
    "    table_catalog\n",
    "  , table_schema\n",
    "  , table_name\n",
    "  , \"magnusp_catalog.training_gold\" as target_schema\n",
    "  FROM magnusp_catalog.information_schema.tables\n",
    "  WHERE table_name like \"gold_%\" and table_schema = 'training'\n",
    "  )\n",
    "  SELECT \n",
    "    \"CREATE OR REPLACE VIEW \" || \n",
    "      target_schema || \".\" || \n",
    "      table_name || \" AS \" || \n",
    "      \"SELECT * FROM \" || \n",
    "      table_catalog || \".\" || \n",
    "      table_schema || \".\" || \n",
    "      table_name || \";\" AS sql_script \n",
    "  FROM T1 \n",
    "\"\"\").collect()\n",
    "for i in x:\n",
    "  spark.sql(i.sql_script)"
   ]
  }
 ],
 "metadata": {
  "application/vnd.databricks.v1+notebook": {
   "computePreferences": null,
   "dashboards": [],
   "environmentMetadata": {
    "base_environment": "",
    "environment_version": "2"
   },
   "language": "python",
   "notebookMetadata": {
    "pythonIndentUnit": 2
   },
   "notebookName": "Generate views",
   "widgets": {}
  },
  "language_info": {
   "name": "python"
  }
 },
 "nbformat": 4,
 "nbformat_minor": 0
}
