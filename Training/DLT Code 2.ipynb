{
 "cells": [
  {
   "cell_type": "markdown",
   "metadata": {
    "application/vnd.databricks.v1+cell": {
     "cellMetadata": {},
     "inputWidgets": {},
     "nuid": "f0312b7d-1f4f-4a0e-a1cd-2531521e02e4",
     "showTitle": false,
     "tableResultSettingsMap": {},
     "title": ""
    }
   },
   "source": [
    "\n",
    "This file is used in conjunction with the files: \n",
    "* <b>DLT Pipeline 1</b>\n",
    "* <b>SCD's</b>\n",
    "\n",
    "\n",
    "to create a pipeline.\n"
   ]
  },
  {
   "cell_type": "code",
   "execution_count": 0,
   "metadata": {
    "application/vnd.databricks.v1+cell": {
     "cellMetadata": {},
     "inputWidgets": {},
     "nuid": "22d7d455-8d4a-4d73-824e-c2a970764c57",
     "showTitle": false,
     "tableResultSettingsMap": {},
     "title": ""
    }
   },
   "outputs": [],
   "source": [
    "-- Remember to change the source folder for the file\n",
    "-- what is the difference or are there a difference between read_files, and cloud_files (autoloader)\n",
    "CREATE OR REFRESH STREAMING TABLE bronze_customers\n",
    "AS \n",
    "SELECT * except(_rescued_data), current_timestamp() as customer_ingestion_ts\n",
    "FROM \n",
    "  STREAM read_files(\"/Volumes/magnusp_catalog/training/source/customers.csv\", format => \"csv\", header => true, inferSchema => true, mode => \"DROPMALFORMED\")"
   ]
  },
  {
   "cell_type": "code",
   "execution_count": 0,
   "metadata": {
    "application/vnd.databricks.v1+cell": {
     "cellMetadata": {},
     "inputWidgets": {},
     "nuid": "68712686-b9e8-46ad-b194-52bdb0ba78c2",
     "showTitle": false,
     "tableResultSettingsMap": {},
     "title": ""
    }
   },
   "outputs": [],
   "source": [
    "CREATE OR REPLACE MATERIALIZED VIEW gold_customer_call_id_costs\n",
    "AS \n",
    "WITH T1 AS (\n",
    "SELECT \n",
    "  customer_id\n",
    ", phone_number\n",
    ", device_id\n",
    ", plan_ld_cost_per_minute\n",
    ", sum(minutes) as sum_minutes \n",
    "FROM silver_customer_plan_and_events\n",
    "WHERE lower(event_type) = 'ld call'\n",
    "GROUP BY 1,2,3,4\n",
    ")\n",
    "SELECT \n",
    "  t0.customer_id\n",
    ", t0.phone_number\n",
    ", t0.device_id\n",
    ", SUM(t0.sum_minutes * t0.plan_ld_cost_per_minute) as cost \n",
    "FROM T1 as t0\n",
    "GROUP BY ROLLUP (t0.customer_id, t0.phone_number, t0.device_id )\n"
   ]
  },
  {
   "cell_type": "code",
   "execution_count": 0,
   "metadata": {
    "application/vnd.databricks.v1+cell": {
     "cellMetadata": {},
     "inputWidgets": {},
     "nuid": "7fcdab42-14f3-416b-aa55-c0e6325f7093",
     "showTitle": false,
     "tableResultSettingsMap": {},
     "title": ""
    }
   },
   "outputs": [],
   "source": [
    "CREATE OR REPLACE MATERIALIZED VIEW gold_customer_intl_call_costs\n",
    "AS \n",
    "WITH T1 AS (\n",
    "SELECT \n",
    "  customer_id\n",
    ", phone_number\n",
    ", device_id\n",
    ", plan_intl_cost_per_minute\n",
    ", sum(minutes) as sum_minutes \n",
    "FROM silver_customer_plan_and_events\n",
    "WHERE lower(event_type) = 'intl call'\n",
    "GROUP BY 1,2,3,4\n",
    ")\n",
    "SELECT \n",
    "  t0.customer_id\n",
    ", t0.phone_number\n",
    ", t0.device_id\n",
    ", SUM(t0.sum_minutes * t0.plan_intl_cost_per_minute) as cost \n",
    "FROM T1 as t0\n",
    "GROUP BY ROLLUP (t0.customer_id, t0.phone_number, t0.device_id )"
   ]
  },
  {
   "cell_type": "code",
   "execution_count": 0,
   "metadata": {
    "application/vnd.databricks.v1+cell": {
     "cellMetadata": {},
     "inputWidgets": {},
     "nuid": "a53e6f8e-a6bd-4db9-9aa5-e759f0dd96e3",
     "showTitle": false,
     "tableResultSettingsMap": {},
     "title": ""
    }
   },
   "outputs": [],
   "source": [
    "CREATE OR REPLACE TEMPORARY MATERIALIZED VIEW gold_customer_intl_call_view\n",
    "AS\n",
    "SELECT * FROM gold_customer_intl_call_costs \n",
    "WHERE customer_id IS NOT NULL \n",
    "AND   phone_number IS NULL\n"
   ]
  },
  {
   "cell_type": "code",
   "execution_count": 0,
   "metadata": {
    "application/vnd.databricks.v1+cell": {
     "cellMetadata": {},
     "inputWidgets": {},
     "nuid": "9c81ce0c-a0ed-42ce-a005-d133fbaf6d85",
     "showTitle": false,
     "tableResultSettingsMap": {},
     "title": ""
    }
   },
   "outputs": [],
   "source": [
    "CREATE OR REPLACE TEMPORARY MATERIALIZED VIEW gold_customer_call_id_view\n",
    "AS\n",
    "SELECT * FROM gold_customer_call_id_costs \n",
    "WHERE customer_id IS NOT NULL \n",
    "AND   phone_number IS NULL"
   ]
  }
 ],
 "metadata": {
  "application/vnd.databricks.v1+notebook": {
   "computePreferences": null,
   "dashboards": [],
   "environmentMetadata": {
    "base_environment": "",
    "environment_version": "2"
   },
   "language": "sql",
   "notebookMetadata": {
    "pythonIndentUnit": 2
   },
   "notebookName": "DLT Code 2",
   "widgets": {}
  },
  "language_info": {
   "name": "sql"
  }
 },
 "nbformat": 4,
 "nbformat_minor": 0
}
