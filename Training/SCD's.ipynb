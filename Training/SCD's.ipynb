{
 "cells": [
  {
   "cell_type": "markdown",
   "metadata": {
    "application/vnd.databricks.v1+cell": {
     "cellMetadata": {},
     "inputWidgets": {},
     "nuid": "649e2abc-f7b5-4ba4-a3f1-5c99de050ead",
     "showTitle": false,
     "tableResultSettingsMap": {},
     "title": ""
    }
   },
   "source": [
    "# Dimensions"
   ]
  },
  {
   "cell_type": "code",
   "execution_count": 0,
   "metadata": {
    "application/vnd.databricks.v1+cell": {
     "cellMetadata": {},
     "inputWidgets": {},
     "nuid": "a1ec0d7e-5885-4b5c-8e64-e31272333f67",
     "showTitle": false,
     "tableResultSettingsMap": {},
     "title": ""
    }
   },
   "outputs": [],
   "source": [
    "%python\n",
    "import dlt\n",
    "from pyspark.sql.functions import col,lit, expr\n",
    "\n",
    "dlt.create_streaming_table(\"gold_dim_customer\")\n",
    "\n",
    "@dlt.view()\n",
    "def extract_customer_data():\n",
    "  return spark.readStream.table(\"silver_customer_plan_and_events\").select (\n",
    "    \"customer_id\",\n",
    "    \"customer_name\",\n",
    "    \"email\",\n",
    "    \"customer_ingestion_ts\",\n",
    "    lit(\"I\").alias(\"operation\")\n",
    "  )\n",
    "\n",
    "dlt.apply_changes(\n",
    "  target = \"gold_dim_customer\",\n",
    "  source = \"extract_customer_data\",\n",
    "  keys = [\"customer_id\"],\n",
    "  sequence_by = col(\"customer_ingestion_ts\"),\n",
    "  apply_as_deletes = expr(\"operation = 'DELETE'\"),\n",
    "  apply_as_truncates = expr(\"operation = 'TRUNCATE'\"),\n",
    "  except_column_list = [\"operation\", \"customer_ingestion_ts\"],\n",
    "  stored_as_scd_type = 1\n",
    ")"
   ]
  },
  {
   "cell_type": "code",
   "execution_count": 0,
   "metadata": {
    "application/vnd.databricks.v1+cell": {
     "cellMetadata": {},
     "inputWidgets": {},
     "nuid": "f72f786f-d0c7-4bf9-a68e-ecff2eff696c",
     "showTitle": false,
     "tableResultSettingsMap": {},
     "title": ""
    }
   },
   "outputs": [],
   "source": [
    "%python\n",
    "import dlt\n",
    "from pyspark.sql.functions import col,lit, expr\n",
    "\n",
    "dlt.create_streaming_table(\"gold_dim_plan\")\n",
    "\n",
    "@dlt.view()\n",
    "def extract_plan_data():\n",
    "  return spark.readStream.table(\"silver_customer_plan_and_events\").select (\n",
    "    \"plan_id\",\n",
    "    \"plan_name\",\n",
    "    \"plan_cost_per_mb\",\n",
    "    \"plan_cost_per_minute\",\n",
    "    \"plan_ld_cost_per_minute\",\n",
    "    \"plan_intl_cost_per_minute\",\n",
    "    \"plan_ingestion_ts\",\n",
    "    lit(\"I\").alias(\"operation\")\n",
    "  )\n",
    "\n",
    "dlt.apply_changes(\n",
    "  target = \"gold_dim_plan\",\n",
    "  source = \"extract_plan_data\",\n",
    "  keys = [\"plan_id\"],\n",
    "  sequence_by = col(\"plan_ingestion_ts\"),\n",
    "  apply_as_deletes = expr(\"operation = 'DELETE'\"),\n",
    "  apply_as_truncates = expr(\"operation = 'TRUNCATE'\"),\n",
    "  except_column_list = [\"operation\", \"plan_ingestion_ts\"],\n",
    "  stored_as_scd_type = 1\n",
    ")"
   ]
  }
 ],
 "metadata": {
  "application/vnd.databricks.v1+notebook": {
   "computePreferences": null,
   "dashboards": [],
   "environmentMetadata": {
    "base_environment": "",
    "environment_version": "2"
   },
   "language": "python",
   "notebookMetadata": {
    "pythonIndentUnit": 2
   },
   "notebookName": "SCD's",
   "widgets": {}
  },
  "language_info": {
   "name": "python"
  }
 },
 "nbformat": 4,
 "nbformat_minor": 0
}
