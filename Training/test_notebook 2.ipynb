{
 "cells": [
  {
   "cell_type": "markdown",
   "metadata": {
    "application/vnd.databricks.v1+cell": {
     "cellMetadata": {},
     "inputWidgets": {},
     "nuid": "873ee80e-ee16-4f3d-92af-ed4fb20e5468",
     "showTitle": false,
     "tableResultSettingsMap": {},
     "title": ""
    }
   },
   "source": [
    "# Collecting the SQL 1 statement pipelines in a notebook\n",
    "In this notebook I just want to show that the 1 statement DLT pipelines, easily can be added to a regular DLT pipeline with multiple steps, and be part of a larger end-to-end pipeline\n",
    "\n",
    "Create a ETL Pipeline and include test_notebook and test_notebook 2 and pres validate and you will see the end to end pipeline.\n",
    "If you do not provide the catalog and schema in the name, it will be installed in the target schema for the pipeline. If that schema does not exist, it will automatically be created."
   ]
  },
  {
   "cell_type": "code",
   "execution_count": 0,
   "metadata": {
    "application/vnd.databricks.v1+cell": {
     "cellMetadata": {},
     "inputWidgets": {},
     "nuid": "fb906721-e62d-4d75-94f8-c939daac6b49",
     "showTitle": false,
     "tableResultSettingsMap": {},
     "title": ""
    }
   },
   "outputs": [],
   "source": [
    "CREATE OR REFRESH STREAMING TABLE CarPartLifespan\n",
    "SCHEDULE REFRESH EVERY 8 WEEK\n",
    "COMMENT 'This table is used to track the lifespan of car parts'\n",
    "TBLPROPERTIES ('pipelines.channel' = 'preview')\n",
    "AS\n",
    "SELECT \n",
    "  Component\n",
    ", Description\n",
    ", `Typical Material` as Material\n",
    ", `Estimated Lifespan` as lifespan\n",
    "from STREAM read_files (\n",
    "  '/Volumes/magnusp_catalog/training/source/*.csv'\n",
    ", format => 'csv'\n",
    ", header => true\n",
    ", mode => 'FAILFAST'\n",
    ")\n",
    "GROUP BY ALL"
   ]
  },
  {
   "cell_type": "markdown",
   "metadata": {
    "application/vnd.databricks.v1+cell": {
     "cellMetadata": {},
     "inputWidgets": {},
     "nuid": "0e4f1883-97bf-4aeb-ad85-67d2767e63fd",
     "showTitle": false,
     "tableResultSettingsMap": {},
     "title": ""
    }
   },
   "source": [
    "# Extended SQL\n",
    "As I mentioned we have an extended SQL in order to be able to handle deeply nested structures, (maps, arrays, structs), that could of course be embedded in arrays, maps, and structs.\n",
    "The way you do this is by using higher_order functions such as:\n",
    "* filter\n",
    "* flatten\n",
    "* transform\n",
    "* reverse\n",
    "* array_sort\n",
    "\n",
    "and then ways to turn the complex structure into rows through for instance <b>explode</b> and <b>posexplode</b>"
   ]
  },
  {
   "cell_type": "code",
   "execution_count": 0,
   "metadata": {
    "application/vnd.databricks.v1+cell": {
     "cellMetadata": {},
     "inputWidgets": {},
     "nuid": "75b16a7b-f8b1-4a1c-a6c7-06033e785205",
     "showTitle": false,
     "tableResultSettingsMap": {},
     "title": ""
    }
   },
   "outputs": [],
   "source": [
    "\n",
    "CREATE OR REPLACE MATERIALIZED VIEW magnusp_catalog.training.Lifespan_And_Components_V2\n",
    "AS\n",
    "WITH T1 AS (\n",
    "  SELECT\n",
    "    replace (replace(replace(lifespan, \" \", \"<SPC>\"), \"-\", \"<DASH>\"),\",\", \"<COMMA>\") as lifespan_split_space\n",
    "  , component\n",
    "  FROM CarPartLifespan\n",
    "),\n",
    "T2 (\n",
    "  SELECT \n",
    "    filter (\n",
    "      flatten (\n",
    "        transform (\n",
    "          split(lifespan_split_space, \"<SPC>\"),  -- INPUT ARRAY\n",
    "            x -> split ( -- FOR EACH ELEMENT IN ARRAY SPLIT\n",
    "              replace (\n",
    "                x, -- FIELD\n",
    "                \"<COMMA>\", -- WHAT TO REPLACE\n",
    "                \"\" -- REPLACE WITH EMPTY\n",
    "              ), \n",
    "              \"<DASH>\" -- FIELD TO SPLIT ON\n",
    "            )\n",
    "        )\n",
    "      ),  \n",
    "      x-> lower(x) NOT IN (\n",
    "        \"\", \n",
    "        \"of\",\n",
    "        \"the\", \n",
    "        \"(belt)\", \n",
    "        \"with\", \n",
    "        \"each\", \n",
    "        \"change\", \n",
    "        \"lifetime\", \n",
    "        \"replace\"\n",
    "      ) \n",
    "    )  as lifespan_split_space \n",
    "  , component\n",
    "  FROM t1\n",
    "), T3 (\n",
    "  SELECT \n",
    "    upper(slice(reverse(lifespan_split_space),1, 1)[0]) as unit\n",
    "  , reverse(slice(reverse(lifespan_split_space),2, size(lifespan_split_space)-1)) as rest\n",
    "  , array_sort(collect_set(lower(component))) as components\n",
    "  FROM T2\n",
    "  GROUP BY 1,2\n",
    ") , T4 (\n",
    "  SELECT \n",
    "    unit\n",
    "  , CAST(rest[0] as INT) as lifespan_min\n",
    "  , CAST(rest[1] AS INT) as lifespan_max \n",
    "  , posexplode(components) (component_pos, component)\n",
    "  FROM T3\n",
    ")\n",
    "SELECT * FROM T4"
   ]
  }
 ],
 "metadata": {
  "application/vnd.databricks.v1+notebook": {
   "computePreferences": null,
   "dashboards": [],
   "environmentMetadata": {
    "base_environment": "",
    "environment_version": "2"
   },
   "language": "sql",
   "notebookMetadata": {
    "pythonIndentUnit": 2
   },
   "notebookName": "test_notebook 2",
   "widgets": {}
  },
  "language_info": {
   "name": "sql"
  }
 },
 "nbformat": 4,
 "nbformat_minor": 0
}
