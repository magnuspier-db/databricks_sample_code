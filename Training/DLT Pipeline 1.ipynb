{
 "cells": [
  {
   "cell_type": "markdown",
   "metadata": {
    "application/vnd.databricks.v1+cell": {
     "cellMetadata": {},
     "inputWidgets": {},
     "nuid": "a9754af3-5e66-4c33-9d77-c55ae54fc821",
     "showTitle": false,
     "tableResultSettingsMap": {},
     "title": ""
    }
   },
   "source": [
    "# Introduction to DLT\n",
    "DLT works with three types of Datasets:\n",
    "* Streaming Tables (Permanent / Temporary) used to append data source, incremental data\n",
    "* Materialized Views - Used for transformations, aggregations or computations\n",
    "* Views - used for intermediate transformations, not stored in the target schema"
   ]
  },
  {
   "cell_type": "code",
   "execution_count": 0,
   "metadata": {
    "application/vnd.databricks.v1+cell": {
     "cellMetadata": {
      "byteLimit": 2048000,
      "rowLimit": 10000
     },
     "inputWidgets": {},
     "nuid": "7c414987-e21e-4532-b72a-00225ab0de6d",
     "showTitle": false,
     "tableResultSettingsMap": {},
     "title": ""
    }
   },
   "outputs": [],
   "source": [
    "\n",
    "import dlt\n",
    "from pyspark.sql.functions import current_timestamp\n",
    "# Streaming table due to spark.readStream\n",
    "\n",
    "@dlt.table(\n",
    "  name=\"bronze_plans\",\n",
    "  table_properties = { \"quality\": \"bronze\"},\n",
    "  comment = \"Plans bronze table\"\n",
    ")\n",
    "def func():\n",
    "  return spark.readStream.format(\"cloudfiles\")\\\n",
    "    .option(\"cloudFiles.format\", \"json\")\\\n",
    "    .option(\"cloudFiles.schemaLocation\", \"/Volumes/magnusp_catalog/training/source/schemas/plans\")\\\n",
    "    .option(\"cloudFiles.schemaHints\", \"\"\"\n",
    "            plan_id integer,\n",
    "            plan_name string,\n",
    "            cost_per_mb decimal(5,3), \n",
    "            cost_per_message decimal(5,3), \n",
    "            cost_per_minute decimal(5,3),\n",
    "            ld_cost_per_minute decimal(5,3),\n",
    "            intl_cost_per_minute decimal(5,3)\n",
    "    \"\"\")\\\n",
    "    .option(\"cloudFiles.schemaEvolutionMode\", \"none\")\\\n",
    "    .load (\n",
    "      \"/Volumes/magnusp_catalog/training/source/plans.json\"\n",
    "    ).withColumn (\n",
    "      \"plan_ingestion_ts\", current_timestamp()\n",
    "    ).select (\n",
    "      col(\"plan_id\"),\n",
    "      col(\"plan_name\"),\n",
    "      col(\"cost_per_mb\").alias(\"plan_cost_per_mb\"),\n",
    "      col(\"cost_per_message\").alias(\"plan_cost_per_message\"),\n",
    "      col(\"cost_per_minute\").alias(\"plan_cost_per_minute\"),\n",
    "      col(\"ld_cost_per_minute\").alias(\"plan_ld_cost_per_minute\"),\n",
    "      col(\"intl_cost_per_minute\").alias(\"plan_intl_cost_per_minute\"),\n",
    "      col(\"plan_ingestion_ts\")\n",
    "    )"
   ]
  },
  {
   "cell_type": "code",
   "execution_count": 0,
   "metadata": {
    "application/vnd.databricks.v1+cell": {
     "cellMetadata": {
      "byteLimit": 2048000,
      "rowLimit": 10000
     },
     "inputWidgets": {},
     "nuid": "e2d4686a-7e3b-4a41-8e9a-2947d895ebd8",
     "showTitle": false,
     "tableResultSettingsMap": {},
     "title": ""
    }
   },
   "outputs": [],
   "source": [
    "import dlt\n",
    "from pyspark.sql.functions import expr\n",
    "\n",
    "# TABLE (Materialized in target as a silver table)\n",
    "@dlt.table(\n",
    "  name=\"silver_customer_plan_and_events\",\n",
    "  table_properties = { \"quality\": \"silver\"}\n",
    ")\n",
    "def func():\n",
    "  df        = spark.read.table(\"bronze_customers\").alias(\"c\")\n",
    "  df_plans  = spark.read.table(\"bronze_plans\").alias(\"p\")\n",
    "  df_events = spark.readStream.option(\"skipChangeCommits\",\"true\").table(\"bronze_device_events\").alias(\"e\").withWatermark(\"event_ingestion_ts\", \"30 minutes\")\n",
    "  df_joined = df.join(df_plans,on=expr(\"c.plan = p.plan_id\"))\n",
    "  df_joined_events = df_joined.join(df_events, how=\"inner\",on=[\"device_id\"])\n",
    "  return df_joined_events"
   ]
  },
  {
   "cell_type": "code",
   "execution_count": 0,
   "metadata": {
    "application/vnd.databricks.v1+cell": {
     "cellMetadata": {},
     "inputWidgets": {},
     "nuid": "adfd49b3-2105-4969-9e7c-7ffecd5c10ed",
     "showTitle": false,
     "tableResultSettingsMap": {},
     "title": ""
    }
   },
   "outputs": [],
   "source": [
    "from pyspark.sql.functions import current_timestamp\n",
    "# Materialized view \n",
    "@dlt.table(\n",
    "  name=\"bronze_device_events\",\n",
    "  table_properties = { \"quality\": \"bronze\"},\n",
    "  comment = \"Events bronze table\"\n",
    ")\n",
    "def func():\n",
    "  df = spark.read.table(\"magnusp_catalog.training_raw.raw_events\").withColumn(\"event_ingestion_ts\", current_timestamp())\n",
    "  return df"
   ]
  },
  {
   "cell_type": "code",
   "execution_count": 0,
   "metadata": {
    "application/vnd.databricks.v1+cell": {
     "cellMetadata": {},
     "inputWidgets": {},
     "nuid": "2473f9a7-70a0-4a07-af1b-7c6e165b602a",
     "showTitle": false,
     "tableResultSettingsMap": {},
     "title": ""
    }
   },
   "outputs": [],
   "source": [
    "import dlt\n",
    "from pyspark.sql.functions import count,sum,col,lower\n",
    "\n",
    "@dlt.table(\n",
    "  name = \"gold_sms_costs\",\n",
    "  table_properties = { \"quality\": \"gold\"},\n",
    "  comment = \"Cube costs SMS\"\n",
    ")\n",
    "def func():\n",
    "  df = spark.read.table(\"silver_customer_plan_and_events\")\n",
    "  df_sms = df.where(\n",
    "    lower(col(\"event_type\")) == \"sms\"\n",
    "  )\n",
    "  df_sms_cnt = df_sms.groupBy(\n",
    "    \"customer_id\",\n",
    "    \"phone_number\", \n",
    "    \"device_id\", \n",
    "    \"plan_cost_per_message\"\n",
    "  ).agg(\n",
    "    count(\"event_ts\").alias(\"sms_cnt\")\n",
    "  )\n",
    "  df_sms_cube = df_sms_cnt.rollup(\n",
    "    \"customer_id\",\n",
    "    \"phone_number\", \n",
    "    \"device_id\"\n",
    "  ).agg(\n",
    "    sum(\n",
    "      col(\"sms_cnt\") * col(\"plan_cost_per_message\")\n",
    "    ).alias(\"total_cost\")\n",
    "  )\n",
    "  return df_sms_cube"
   ]
  },
  {
   "cell_type": "code",
   "execution_count": 0,
   "metadata": {
    "application/vnd.databricks.v1+cell": {
     "cellMetadata": {},
     "inputWidgets": {},
     "nuid": "f26dfa24-ae5c-45f2-b226-f7bac73cf5c7",
     "showTitle": false,
     "tableResultSettingsMap": {},
     "title": ""
    }
   },
   "outputs": [],
   "source": [
    "import dlt\n",
    "from pyspark.sql.functions import count,sum,col,lower\n",
    "\n",
    "@dlt.table(\n",
    "  name = \"gold_internet_costs\",\n",
    "  table_properties = { \"quality\": \"gold\"},\n",
    "  comment = \"Cube costs Internet\"\n",
    ")\n",
    "def func():\n",
    "  df = spark.read.table(\"silver_customer_plan_and_events\")\n",
    "  df_internet = df.where(\n",
    "    lower(col(\"event_type\")) == \"internet\"\n",
    "  )\n",
    "  df_internet_mb = df_internet.groupBy(\n",
    "    \"customer_id\",\n",
    "    \"phone_number\", \n",
    "    \"device_id\", \n",
    "    \"plan_cost_per_mb\"\n",
    "  ).agg(\n",
    "    sum(\"bytes_transferred\").alias(\"bytes_transferred\")\n",
    "  )\n",
    "  df_internet_cube = df_internet_mb.rollup(\n",
    "    \"customer_id\",\n",
    "    \"phone_number\", \n",
    "    \"device_id\"\n",
    "  ).agg(\n",
    "    sum(\n",
    "      col(\"bytes_transferred\") * col(\"plan_cost_per_mb\")\n",
    "    ).alias(\"total_cost\")\n",
    "  )\n",
    "  return df_internet_cube"
   ]
  },
  {
   "cell_type": "code",
   "execution_count": 0,
   "metadata": {
    "application/vnd.databricks.v1+cell": {
     "cellMetadata": {},
     "inputWidgets": {},
     "nuid": "105b4cc0-ed69-4965-a814-5abf732301b4",
     "showTitle": false,
     "tableResultSettingsMap": {},
     "title": ""
    }
   },
   "outputs": [],
   "source": [
    "@dlt.view()\n",
    "def gold_customers_sms_view():\n",
    "  df = spark.read.table(\"gold_sms_costs\").where(\n",
    "    col(\"customer_id\").isNotNull() & \n",
    "    col(\"phone_number\").isNull() & \n",
    "    col(\"device_id\").isNull() \n",
    "  )\n",
    "  return df\n",
    "  "
   ]
  },
  {
   "cell_type": "code",
   "execution_count": 0,
   "metadata": {
    "application/vnd.databricks.v1+cell": {
     "cellMetadata": {},
     "inputWidgets": {},
     "nuid": "50f05e93-527d-4219-aad5-7a8f3c516346",
     "showTitle": false,
     "tableResultSettingsMap": {},
     "title": ""
    }
   },
   "outputs": [],
   "source": [
    "@dlt.view()\n",
    "def gold_customers_internet_view():\n",
    "  df = spark.read.table(\"gold_internet_costs\").where(\n",
    "    col(\"customer_id\").isNotNull() &\n",
    "    col(\"phone_number\").isNull() &\n",
    "    col(\"device_id\").isNull()\n",
    "  )\n",
    "  return df"
   ]
  },
  {
   "cell_type": "code",
   "execution_count": 0,
   "metadata": {
    "application/vnd.databricks.v1+cell": {
     "cellMetadata": {},
     "inputWidgets": {},
     "nuid": "b971f059-490b-44ee-902f-d90692d240b9",
     "showTitle": false,
     "tableResultSettingsMap": {},
     "title": ""
    }
   },
   "outputs": [],
   "source": [
    "@dlt.table(\n",
    "  name = \"gold_customer_cost\",\n",
    "  table_properties = { \"quality\": \"gold\"},\n",
    "  comment = \"Summary of costs per customer\"\n",
    ")\n",
    "def gold_customer_cost():\n",
    "  df = spark.read.table(\"gold_customers_sms_view\")\n",
    "  df2 = spark.read.table(\"gold_customers_internet_view\")\n",
    "  df3 = spark.read.table(\"gold_customer_intl_call_view\")\n",
    "  df4 = spark.read.table(\"gold_customer_call_id_view\")\n",
    "  return df.union(df2).union(df3).union(df4).groupBy(\"customer_id\").agg(sum(\"total_cost\").alias(\"total_cost\")).drop(\"device_id\",\"phone_number\")"
   ]
  }
 ],
 "metadata": {
  "application/vnd.databricks.v1+notebook": {
   "computePreferences": null,
   "dashboards": [],
   "environmentMetadata": {
    "base_environment": "",
    "environment_version": "2"
   },
   "language": "python",
   "notebookMetadata": {
    "mostRecentlyExecutedCommandWithImplicitDF": {
     "commandId": 2507833646509961,
     "dataframes": [
      "_sqldf"
     ]
    },
    "pythonIndentUnit": 2
   },
   "notebookName": "DLT Pipeline 1",
   "widgets": {}
  },
  "language_info": {
   "name": "python"
  }
 },
 "nbformat": 4,
 "nbformat_minor": 0
}
