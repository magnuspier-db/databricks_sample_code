{
 "cells": [
  {
   "cell_type": "code",
   "execution_count": 0,
   "metadata": {
    "application/vnd.databricks.v1+cell": {
     "cellMetadata": {
      "byteLimit": 2048000,
      "rowLimit": 10000
     },
     "inputWidgets": {},
     "nuid": "dccb160f-c38d-4502-8fb3-4a7c3cf50398",
     "showTitle": false,
     "tableResultSettingsMap": {},
     "title": ""
    }
   },
   "outputs": [],
   "source": [
    "import pandas as pd\n",
    "import pyspark.pandas as ps\n",
    "df = pd.read_csv('/Volumes/magnusp_catalog/training/source/customers.csv/part-00000-tid-4003758543008752514-2e2e56cf-daa9-48c3-a950-dd230ba21e8f-78-1-c000.csv')\n",
    "print(df)\n",
    "dct = df.to_dict(orient='records')\n",
    "for i in dct:\n",
    "  print(i['customer_id'], i['customer_name'], i['device_id'], i['phone_number'], i['email'], i['plan'])\n",
    "\n",
    "df2 = ps.from_pandas(df)\n",
    "display(df2)\n"
   ]
  },
  {
   "cell_type": "code",
   "execution_count": 0,
   "metadata": {
    "application/vnd.databricks.v1+cell": {
     "cellMetadata": {
      "byteLimit": 2048000,
      "rowLimit": 10000
     },
     "inputWidgets": {},
     "nuid": "f2bc0ad6-475d-471d-b972-9fc8cfd5ff61",
     "showTitle": false,
     "tableResultSettingsMap": {},
     "title": ""
    }
   },
   "outputs": [],
   "source": []
  }
 ],
 "metadata": {
  "application/vnd.databricks.v1+notebook": {
   "computePreferences": null,
   "dashboards": [],
   "environmentMetadata": {
    "base_environment": "",
    "environment_version": "2"
   },
   "language": "python",
   "notebookMetadata": {
    "pythonIndentUnit": 2
   },
   "notebookName": "pandas to pyspark based pandas",
   "widgets": {}
  },
  "language_info": {
   "name": "python"
  }
 },
 "nbformat": 4,
 "nbformat_minor": 0
}
