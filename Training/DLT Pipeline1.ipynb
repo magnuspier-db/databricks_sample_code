{
 "cells": [
  {
   "cell_type": "markdown",
   "metadata": {
    "application/vnd.databricks.v1+cell": {
     "cellMetadata": {},
     "inputWidgets": {},
     "nuid": "a9754af3-5e66-4c33-9d77-c55ae54fc821",
     "showTitle": false,
     "tableResultSettingsMap": {},
     "title": ""
    }
   },
   "source": [
    "# Introduction to DLT\n",
    "DLT works with three types of Datasets:\n",
    "* Streaming Tables (Permanent / Temporary) used to append data source, incremental data\n",
    "* Materialized Views - Used for transformations, aggregations or computations\n",
    "* Views - used for intermediate transformations, not stored in the target schema"
   ]
  },
  {
   "cell_type": "code",
   "execution_count": 0,
   "metadata": {
    "application/vnd.databricks.v1+cell": {
     "cellMetadata": {
      "byteLimit": 2048000,
      "rowLimit": 10000
     },
     "inputWidgets": {},
     "nuid": "7c414987-e21e-4532-b72a-00225ab0de6d",
     "showTitle": false,
     "tableResultSettingsMap": {},
     "title": ""
    }
   },
   "outputs": [],
   "source": [
    "\n",
    "import dlt\n",
    "\n",
    "# Streaming table due to spark.readStream\n",
    "\n",
    "@dlt.table(\n",
    "  name=\"plans\",\n",
    "  table_properties = { \"quality\": \"bronze\"},\n",
    "  comment = \"Plans bronze table\"\n",
    ")\n",
    "def func():\n",
    "  return spark.readStream.format(\"cloudfiles\")\\\n",
    "    .option(\"cloudFiles.format\", \"json\")\\\n",
    "    .option(\"cloudFiles.schemaLocation\", \"/Volumes/magnusp_catalog/training/source/schemas/plans\")\\\n",
    "    .option(\"cloudFiles.schemaHints\", \"plan_id integer,plan_name string,cost_per_mb decimal(5,3), cost_per_message decimal(5,3), cost_per_minute decimal(5,3),ld_cost_per_minute decimal(5,3),intl_cost_per_minute decimal(5,3)\")\\\n",
    "    .option(\"cloudFiles.schemaEvolutionMode\", \"none\")\\\n",
    "    .load(\"/Volumes/magnusp_catalog/training/source/plans.json\")"
   ]
  },
  {
   "cell_type": "code",
   "execution_count": 0,
   "metadata": {
    "application/vnd.databricks.v1+cell": {
     "cellMetadata": {
      "byteLimit": 2048000,
      "rowLimit": 10000
     },
     "inputWidgets": {},
     "nuid": "e2d4686a-7e3b-4a41-8e9a-2947d895ebd8",
     "showTitle": false,
     "tableResultSettingsMap": {},
     "title": ""
    }
   },
   "outputs": [],
   "source": [
    "import dlt\n",
    "from pyspark.sql.functions import expr\n",
    "\n",
    "# VIEW (not materialized in target)\n",
    "@dlt.table(\n",
    "  name=\"customer_plan_and_events\",\n",
    "  table_properties = { \"quality\": \"silver\"}\n",
    ")\n",
    "def func():\n",
    "  df = spark.readStream.table(\"customers\").alias(\"c\")\n",
    "  df_plans = spark.readStream.table(\"plans\").alias(\"p\")\n",
    "  df_events = spark.read.table(\"device_events\").alias(\"e\")\n",
    "  df_joined = df.join(df_plans,on=expr(\"c.plan = p.plan_id\"))\n",
    "  df_joined_events = df_joined.join(df_events, how=\"LEFT_OUTER\",on=[\"device_id\"])\n",
    "  return df_joined_events"
   ]
  },
  {
   "cell_type": "code",
   "execution_count": 0,
   "metadata": {
    "application/vnd.databricks.v1+cell": {
     "cellMetadata": {},
     "inputWidgets": {},
     "nuid": "adfd49b3-2105-4969-9e7c-7ffecd5c10ed",
     "showTitle": false,
     "tableResultSettingsMap": {},
     "title": ""
    }
   },
   "outputs": [],
   "source": [
    "# Materialized view \n",
    "@dlt.table(\n",
    "  name=\"device_events\",\n",
    "  table_properties = { \"quality\": \"bronze\"},\n",
    "  comment = \"Events bronze table\"\n",
    ")\n",
    "def func():\n",
    "  df = spark.read.table(\"magnusp_catalog.training.events\")\n",
    "  return df"
   ]
  },
  {
   "cell_type": "code",
   "execution_count": 0,
   "metadata": {
    "application/vnd.databricks.v1+cell": {
     "cellMetadata": {},
     "inputWidgets": {},
     "nuid": "2473f9a7-70a0-4a07-af1b-7c6e165b602a",
     "showTitle": false,
     "tableResultSettingsMap": {},
     "title": ""
    }
   },
   "outputs": [],
   "source": [
    "import dlt\n",
    "from pyspark.sql.functions import count,sum,col,lower\n",
    "\n",
    "@dlt.table(\n",
    "  name = \"sms_costs\",\n",
    "  table_properties = { \"quality\": \"gold\"},\n",
    "  comment = \"Cube costs SMS\"\n",
    ")\n",
    "def func():\n",
    "  df = spark.read.table(\"customer_plan_and_events\")\n",
    "  df_sms = df.where(\n",
    "    lower(col(\"event_type\")) == \"sms\"\n",
    "  )\n",
    "  df_sms_cnt = df_sms.groupBy(\n",
    "    \"customer_id\",\n",
    "    \"phone_number\", \n",
    "    \"device_id\", \n",
    "    \"cost_per_message\"\n",
    "  ).agg(\n",
    "    count(\"event_ts\").alias(\"sms_cnt\")\n",
    "  )\n",
    "  df_sms_cube = df_sms_cnt.cube(\n",
    "    \"customer_id\",\n",
    "    \"phone_number\", \n",
    "    \"device_id\"\n",
    "  ).agg(\n",
    "    sum(\n",
    "      col(\"sms_cnt\") * col(\"cost_per_message\")\n",
    "    ).alias(\"total_cost\")\n",
    "  )\n",
    "  return df_sms_cube"
   ]
  },
  {
   "cell_type": "code",
   "execution_count": 0,
   "metadata": {
    "application/vnd.databricks.v1+cell": {
     "cellMetadata": {},
     "inputWidgets": {},
     "nuid": "f26dfa24-ae5c-45f2-b226-f7bac73cf5c7",
     "showTitle": false,
     "tableResultSettingsMap": {},
     "title": ""
    }
   },
   "outputs": [],
   "source": [
    "import dlt\n",
    "from pyspark.sql.functions import count,sum,col,lower\n",
    "\n",
    "@dlt.table(\n",
    "  name = \"internet_costs\",\n",
    "  table_properties = { \"quality\": \"gold\"},\n",
    "  comment = \"Cube costs Internet\"\n",
    ")\n",
    "def func():\n",
    "  df = spark.read.table(\"customer_plan_and_events\")\n",
    "  df_internet = df.where(\n",
    "    lower(col(\"event_type\")) == \"internet\"\n",
    "  )\n",
    "  df_internet_mb = df_internet.groupBy(\n",
    "    \"customer_id\",\n",
    "    \"phone_number\", \n",
    "    \"device_id\", \n",
    "    \"cost_per_mb\"\n",
    "  ).agg(\n",
    "    sum(\"bytes_transferred\").alias(\"bytes_transferred\")\n",
    "  )\n",
    "  df_internet_cube = df_internet_mb.cube(\n",
    "    \"customer_id\",\n",
    "    \"phone_number\", \n",
    "    \"device_id\"\n",
    "  ).agg(\n",
    "    sum(\n",
    "      col(\"bytes_transferred\") * col(\"cost_per_mb\")\n",
    "    ).alias(\"total_cost\")\n",
    "  )\n",
    "  return df_internet_cube"
   ]
  }
 ],
 "metadata": {
  "application/vnd.databricks.v1+notebook": {
   "computePreferences": null,
   "dashboards": [],
   "environmentMetadata": {
    "base_environment": "",
    "environment_version": "2"
   },
   "language": "python",
   "notebookMetadata": {
    "mostRecentlyExecutedCommandWithImplicitDF": {
     "commandId": 2507833646509961,
     "dataframes": [
      "_sqldf"
     ]
    },
    "pythonIndentUnit": 2
   },
   "notebookName": "DLT Pipeline1",
   "widgets": {}
  },
  "language_info": {
   "name": "python"
  }
 },
 "nbformat": 4,
 "nbformat_minor": 0
}
